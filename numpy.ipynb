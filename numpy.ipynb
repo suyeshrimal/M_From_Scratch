{
  "cells": [
    {
      "cell_type": "markdown",
      "metadata": {
        "id": "view-in-github",
        "colab_type": "text"
      },
      "source": [
        "<a href=\"https://colab.research.google.com/github/suyeshrimal/M_From_Scratch/blob/main/numpy.ipynb\" target=\"_parent\"><img src=\"https://colab.research.google.com/assets/colab-badge.svg\" alt=\"Open In Colab\"/></a>"
      ]
    },
    {
      "cell_type": "markdown",
      "metadata": {
        "id": "ZGx_K8K6fKP7"
      },
      "source": [
        "## Introduction to numpy\n",
        "What we will cover?\n",
        "- creating arrays\n",
        "- multidimensional array\n",
        "- randomly generated arrays\n",
        "- Element wise operations\n",
        "  - comparison operators\n",
        "  - logical operators\n",
        "- sumarizing operations"
      ]
    },
    {
      "cell_type": "markdown",
      "source": [
        "### Single dimensional arrays"
      ],
      "metadata": {
        "id": "CSJYyPDKn0f8"
      }
    },
    {
      "cell_type": "code",
      "execution_count": 14,
      "metadata": {
        "id": "Ied-7M5QhUyM"
      },
      "outputs": [],
      "source": [
        "import numpy as np"
      ]
    },
    {
      "cell_type": "markdown",
      "metadata": {
        "id": "PniEBicKhUvG"
      },
      "source": [
        "Creating arrays"
      ]
    },
    {
      "cell_type": "code",
      "execution_count": 15,
      "metadata": {
        "id": "yBc1zkqehUsS"
      },
      "outputs": [],
      "source": [
        "var=np.zeros(5)"
      ]
    },
    {
      "cell_type": "code",
      "execution_count": 16,
      "metadata": {
        "colab": {
          "base_uri": "https://localhost:8080/"
        },
        "id": "ObaFqY5uhUp5",
        "outputId": "b9d20fb0-b3df-476d-fc6b-05700f314599"
      },
      "outputs": [
        {
          "output_type": "execute_result",
          "data": {
            "text/plain": [
              "numpy.ndarray"
            ]
          },
          "metadata": {},
          "execution_count": 16
        }
      ],
      "source": [
        "type(var)"
      ]
    },
    {
      "cell_type": "code",
      "execution_count": 17,
      "metadata": {
        "colab": {
          "base_uri": "https://localhost:8080/"
        },
        "id": "rc6cpQerhUld",
        "outputId": "4f0eb436-e7db-4dd1-94ca-4a7e5f612049"
      },
      "outputs": [
        {
          "output_type": "execute_result",
          "data": {
            "text/plain": [
              "array([0., 0., 0., 0., 0., 0., 0., 0., 0., 0.])"
            ]
          },
          "metadata": {},
          "execution_count": 17
        }
      ],
      "source": [
        "np.zeros(10)"
      ]
    },
    {
      "cell_type": "code",
      "execution_count": 18,
      "metadata": {
        "colab": {
          "base_uri": "https://localhost:8080/"
        },
        "id": "RcXafA82hUiI",
        "outputId": "24ae7556-3f38-4367-8776-0bd282a8b9b5"
      },
      "outputs": [
        {
          "output_type": "execute_result",
          "data": {
            "text/plain": [
              "array([1., 1., 1., 1., 1., 1., 1., 1., 1., 1.])"
            ]
          },
          "metadata": {},
          "execution_count": 18
        }
      ],
      "source": [
        "np.ones(10)"
      ]
    },
    {
      "cell_type": "code",
      "execution_count": 19,
      "metadata": {
        "id": "D7kg6v0IhUc0",
        "colab": {
          "base_uri": "https://localhost:8080/"
        },
        "outputId": "67a3678a-554d-4502-cd73-f52d69dffdc2"
      },
      "outputs": [
        {
          "output_type": "execute_result",
          "data": {
            "text/plain": [
              "array([2.5, 2.5, 2.5, 2.5, 2.5, 2.5, 2.5, 2.5, 2.5, 2.5])"
            ]
          },
          "metadata": {},
          "execution_count": 19
        }
      ],
      "source": [
        "np.full(10,2.5)"
      ]
    },
    {
      "cell_type": "code",
      "execution_count": 20,
      "metadata": {
        "colab": {
          "base_uri": "https://localhost:8080/"
        },
        "id": "0dIQpTyzhUXs",
        "outputId": "f086605e-8c30-4167-db06-84350fd862e4"
      },
      "outputs": [
        {
          "output_type": "execute_result",
          "data": {
            "text/plain": [
              "array([1, 2, 3, 4, 5])"
            ]
          },
          "metadata": {},
          "execution_count": 20
        }
      ],
      "source": [
        "np.array([1, 2, 3, 4, 5])"
      ]
    },
    {
      "cell_type": "code",
      "execution_count": 21,
      "metadata": {
        "id": "Qs39sQokjcwx",
        "colab": {
          "base_uri": "https://localhost:8080/"
        },
        "outputId": "0fc17d24-53f5-41be-ed5c-680d6986750a"
      },
      "outputs": [
        {
          "output_type": "execute_result",
          "data": {
            "text/plain": [
              "array([3, 4, 5, 6, 7, 8, 9])"
            ]
          },
          "metadata": {},
          "execution_count": 21
        }
      ],
      "source": [
        "np.arange(3,10)"
      ]
    },
    {
      "cell_type": "code",
      "execution_count": 23,
      "metadata": {
        "colab": {
          "base_uri": "https://localhost:8080/"
        },
        "id": "A4Is0B6kjcvK",
        "outputId": "cf2a00a7-7a5a-4da4-ea26-52d93b516646"
      },
      "outputs": [
        {
          "output_type": "execute_result",
          "data": {
            "text/plain": [
              "array([ 0.        ,  1.11111111,  2.22222222,  3.33333333,  4.44444444,\n",
              "        5.55555556,  6.66666667,  7.77777778,  8.88888889, 10.        ])"
            ]
          },
          "metadata": {},
          "execution_count": 23
        }
      ],
      "source": [
        "np.linspace(0,10,10)"
      ]
    },
    {
      "cell_type": "markdown",
      "source": [
        "### Multidimensional arrays"
      ],
      "metadata": {
        "id": "mpTLLYz6jcs8"
      }
    },
    {
      "cell_type": "code",
      "execution_count": 25,
      "metadata": {
        "id": "qSQ5BRoRjcrE",
        "colab": {
          "base_uri": "https://localhost:8080/"
        },
        "outputId": "8e885475-02d5-4b2f-f28d-8046384c4a77"
      },
      "outputs": [
        {
          "output_type": "execute_result",
          "data": {
            "text/plain": [
              "array([[0., 0.],\n",
              "       [0., 0.],\n",
              "       [0., 0.],\n",
              "       [0., 0.],\n",
              "       [0., 0.]])"
            ]
          },
          "metadata": {},
          "execution_count": 25
        }
      ],
      "source": [
        "np.zeros((5,2))"
      ]
    },
    {
      "cell_type": "code",
      "execution_count": 26,
      "metadata": {
        "id": "Pd-5igX_jcom",
        "colab": {
          "base_uri": "https://localhost:8080/"
        },
        "outputId": "abeb6883-1b98-42fe-ec80-ee3f512bf372"
      },
      "outputs": [
        {
          "output_type": "execute_result",
          "data": {
            "text/plain": [
              "array([[1., 1.],\n",
              "       [1., 1.],\n",
              "       [1., 1.],\n",
              "       [1., 1.],\n",
              "       [1., 1.]])"
            ]
          },
          "metadata": {},
          "execution_count": 26
        }
      ],
      "source": [
        "np.ones((5,2))"
      ]
    },
    {
      "cell_type": "code",
      "source": [
        "# Create an multidimensional unit array of size(5,2)\n",
        "# Generate a random array of size (3,5) with elements of your choice\n",
        "\n",
        "arr2=np.array([[1,2,3],\n",
        "          [4,5,6],\n",
        "          [7,8,9],\n",
        "          [10,11,12],\n",
        "          [13,14,15]])"
      ],
      "metadata": {
        "id": "O2cwyRMln-15"
      },
      "execution_count": 32,
      "outputs": []
    },
    {
      "cell_type": "code",
      "source": [
        "arr2[3][2]=22"
      ],
      "metadata": {
        "id": "IntqSw9an_o1"
      },
      "execution_count": 34,
      "outputs": []
    },
    {
      "cell_type": "code",
      "source": [
        "arr2"
      ],
      "metadata": {
        "colab": {
          "base_uri": "https://localhost:8080/"
        },
        "id": "zos6qP0fn_ji",
        "outputId": "91c3512a-150e-4901-fa3e-ddfc9c3a0b11"
      },
      "execution_count": 35,
      "outputs": [
        {
          "output_type": "execute_result",
          "data": {
            "text/plain": [
              "array([[ 1,  2,  3],\n",
              "       [ 4,  5,  6],\n",
              "       [ 7,  8,  9],\n",
              "       [10, 11, 22],\n",
              "       [13, 14, 15]])"
            ]
          },
          "metadata": {},
          "execution_count": 35
        }
      ]
    },
    {
      "cell_type": "code",
      "source": [
        "arr2[4]=np.ones(3)"
      ],
      "metadata": {
        "id": "eFUSaNzon_hQ"
      },
      "execution_count": 36,
      "outputs": []
    },
    {
      "cell_type": "code",
      "source": [
        "arr2[:,2]=[2, 2, 2, 2, 2]"
      ],
      "metadata": {
        "id": "1R3CmvCorPfY"
      },
      "execution_count": 41,
      "outputs": []
    },
    {
      "cell_type": "code",
      "source": [
        "arr2"
      ],
      "metadata": {
        "colab": {
          "base_uri": "https://localhost:8080/"
        },
        "id": "g8zALseJn_ey",
        "outputId": "0c759192-0ab5-452d-97bf-efcea845c74e"
      },
      "execution_count": 42,
      "outputs": [
        {
          "output_type": "execute_result",
          "data": {
            "text/plain": [
              "array([[ 1,  2,  2],\n",
              "       [ 4,  5,  2],\n",
              "       [ 7,  8,  2],\n",
              "       [10, 11,  2],\n",
              "       [ 1,  1,  2]])"
            ]
          },
          "metadata": {},
          "execution_count": 42
        }
      ]
    },
    {
      "cell_type": "markdown",
      "source": [
        "### Randomly generated arrays\n",
        "- NumPy can create arrays filled with random numbers.\n",
        "- To ensure the reproducibility, you can set a seed using np.random.seed()\n",
        "- Everytime you run the code with np.random.seed(2), it will generate the exact same random numbers if you remove or change the seed value, the sequence of random numbers will be changed."
      ],
      "metadata": {
        "id": "u4hDv7AprmHA"
      }
    },
    {
      "cell_type": "code",
      "source": [
        "np.random.rand(3,4)"
      ],
      "metadata": {
        "colab": {
          "base_uri": "https://localhost:8080/"
        },
        "id": "M7eIgnF5rmEf",
        "outputId": "d1fab2f4-368c-47e6-df5a-e556c074dd2f"
      },
      "execution_count": 47,
      "outputs": [
        {
          "output_type": "execute_result",
          "data": {
            "text/plain": [
              "array([[0.33555549, 0.22449764, 0.51033689, 0.17789702],\n",
              "       [0.97093527, 0.3858485 , 0.23582724, 0.71797743],\n",
              "       [0.52573326, 0.5385216 , 0.79606912, 0.97588467]])"
            ]
          },
          "metadata": {},
          "execution_count": 47
        }
      ]
    },
    {
      "cell_type": "code",
      "source": [
        "np.random.seed(4)\n",
        "np.random.rand(5)"
      ],
      "metadata": {
        "colab": {
          "base_uri": "https://localhost:8080/"
        },
        "id": "_S5nYWmErmCJ",
        "outputId": "3ba39aaa-3a7c-481f-bf45-fcdaa500b49a"
      },
      "execution_count": 57,
      "outputs": [
        {
          "output_type": "execute_result",
          "data": {
            "text/plain": [
              "array([0.96702984, 0.54723225, 0.97268436, 0.71481599, 0.69772882])"
            ]
          },
          "metadata": {},
          "execution_count": 57
        }
      ]
    },
    {
      "cell_type": "code",
      "source": [
        "data=np.random.randn(5,2)"
      ],
      "metadata": {
        "id": "HNx4qFQ4rl5f"
      },
      "execution_count": 59,
      "outputs": []
    },
    {
      "cell_type": "code",
      "source": [
        "data.mean()"
      ],
      "metadata": {
        "colab": {
          "base_uri": "https://localhost:8080/"
        },
        "id": "GG2qI0iPz7nx",
        "outputId": "f31e7207-2b74-4c20-b991-7e1d063e4467"
      },
      "execution_count": 77,
      "outputs": [
        {
          "output_type": "execute_result",
          "data": {
            "text/plain": [
              "0.2372452612210985"
            ]
          },
          "metadata": {},
          "execution_count": 77
        }
      ]
    },
    {
      "cell_type": "code",
      "source": [
        "data.std()"
      ],
      "metadata": {
        "colab": {
          "base_uri": "https://localhost:8080/"
        },
        "id": "EVwp3-Dtz-H3",
        "outputId": "d824ae44-35dd-4206-b5f4-e133a9225f03"
      },
      "execution_count": 78,
      "outputs": [
        {
          "output_type": "execute_result",
          "data": {
            "text/plain": [
              "1.305975350975141"
            ]
          },
          "metadata": {},
          "execution_count": 78
        }
      ]
    },
    {
      "cell_type": "code",
      "source": [
        "import seaborn as sns"
      ],
      "metadata": {
        "id": "aqar1UPtuRMp"
      },
      "execution_count": 60,
      "outputs": []
    },
    {
      "cell_type": "code",
      "source": [
        "sns.displot(data)"
      ],
      "metadata": {
        "colab": {
          "base_uri": "https://localhost:8080/",
          "height": 523
        },
        "id": "jFrtYx3XuRJg",
        "outputId": "0192f021-d001-4022-d584-7192f073bdb8"
      },
      "execution_count": 61,
      "outputs": [
        {
          "output_type": "execute_result",
          "data": {
            "text/plain": [
              "<seaborn.axisgrid.FacetGrid at 0x7a2503166c90>"
            ]
          },
          "metadata": {},
          "execution_count": 61
        },
        {
          "output_type": "display_data",
          "data": {
            "text/plain": [
              "<Figure size 558.875x500 with 1 Axes>"
            ],
            "image/png": "[encoded data removed]"
          },
          "metadata": {}
        }
      ]
    },
    {
      "cell_type": "code",
      "source": [
        "np.random.seed(42)\n",
        "np.random.randint(low=0,high=100,size=(5,2))"
      ],
      "metadata": {
        "colab": {
          "base_uri": "https://localhost:8080/"
        },
        "id": "HL2WjHgJuRHG",
        "outputId": "09a6ce88-f623-4394-f04b-df139994f898"
      },
      "execution_count": 63,
      "outputs": [
        {
          "output_type": "execute_result",
          "data": {
            "text/plain": [
              "array([[51, 92],\n",
              "       [14, 71],\n",
              "       [60, 20],\n",
              "       [82, 86],\n",
              "       [74, 74]])"
            ]
          },
          "metadata": {},
          "execution_count": 63
        }
      ]
    },
    {
      "cell_type": "markdown",
      "source": [
        "### Perform some operations"
      ],
      "metadata": {
        "id": "3L8DyalKuREj"
      }
    },
    {
      "cell_type": "code",
      "source": [
        "a=np.arange(5)\n",
        "a"
      ],
      "metadata": {
        "colab": {
          "base_uri": "https://localhost:8080/"
        },
        "id": "_jcEi_azuRBh",
        "outputId": "3b44deb0-2a76-4da2-8381-786b5d71afa9"
      },
      "execution_count": 64,
      "outputs": [
        {
          "output_type": "execute_result",
          "data": {
            "text/plain": [
              "array([0, 1, 2, 3, 4])"
            ]
          },
          "metadata": {},
          "execution_count": 64
        }
      ]
    },
    {
      "cell_type": "code",
      "source": [
        "b=(10+(a*2))\n",
        "b"
      ],
      "metadata": {
        "colab": {
          "base_uri": "https://localhost:8080/"
        },
        "id": "l696f1WjyyMy",
        "outputId": "8d7ed50a-6b67-409d-9d02-24e3f39c69a9"
      },
      "execution_count": 66,
      "outputs": [
        {
          "output_type": "execute_result",
          "data": {
            "text/plain": [
              "array([10, 12, 14, 16, 18])"
            ]
          },
          "metadata": {},
          "execution_count": 66
        }
      ]
    },
    {
      "cell_type": "code",
      "source": [
        "# Comparison operations\n",
        "# You can perform elements wise comparison and with boolean arrays\n",
        "a>=2"
      ],
      "metadata": {
        "colab": {
          "base_uri": "https://localhost:8080/"
        },
        "id": "Mo9EhMG-yyDB",
        "outputId": "e4c4e965-0518-41a0-e444-8428823c7e30"
      },
      "execution_count": 68,
      "outputs": [
        {
          "output_type": "execute_result",
          "data": {
            "text/plain": [
              "array([False, False,  True,  True,  True])"
            ]
          },
          "metadata": {},
          "execution_count": 68
        }
      ]
    },
    {
      "cell_type": "code",
      "source": [
        "a>b"
      ],
      "metadata": {
        "colab": {
          "base_uri": "https://localhost:8080/"
        },
        "id": "NL5uFDVdzciJ",
        "outputId": "24be38af-3ffd-4a0c-b0ac-f6cee68d9cb8"
      },
      "execution_count": 72,
      "outputs": [
        {
          "output_type": "execute_result",
          "data": {
            "text/plain": [
              "array([False, False, False, False, False])"
            ]
          },
          "metadata": {},
          "execution_count": 72
        }
      ]
    },
    {
      "cell_type": "code",
      "source": [
        "### Summarizing\n",
        "# NumPy provides functions for summarizing array of data\n",
        "a"
      ],
      "metadata": {
        "colab": {
          "base_uri": "https://localhost:8080/"
        },
        "id": "1UOwigXNziVR",
        "outputId": "6a1fca5e-b117-4e95-ef1a-823fb7463ea1"
      },
      "execution_count": 73,
      "outputs": [
        {
          "output_type": "execute_result",
          "data": {
            "text/plain": [
              "array([0, 1, 2, 3, 4])"
            ]
          },
          "metadata": {},
          "execution_count": 73
        }
      ]
    },
    {
      "cell_type": "code",
      "source": [
        "a.std()"
      ],
      "metadata": {
        "colab": {
          "base_uri": "https://localhost:8080/"
        },
        "id": "xe5WxBQBztGc",
        "outputId": "841eed2b-c30a-45f9-cffc-db059cc8befd"
      },
      "execution_count": 74,
      "outputs": [
        {
          "output_type": "execute_result",
          "data": {
            "text/plain": [
              "1.4142135623730951"
            ]
          },
          "metadata": {},
          "execution_count": 74
        }
      ]
    },
    {
      "cell_type": "code",
      "source": [
        "a.min()"
      ],
      "metadata": {
        "colab": {
          "base_uri": "https://localhost:8080/"
        },
        "id": "81ycDCn9ztDh",
        "outputId": "2abc1830-ce68-43b1-d5aa-2c2f182cc818"
      },
      "execution_count": 75,
      "outputs": [
        {
          "output_type": "execute_result",
          "data": {
            "text/plain": [
              "0"
            ]
          },
          "metadata": {},
          "execution_count": 75
        }
      ]
    },
    {
      "cell_type": "code",
      "source": [
        "a.mean()"
      ],
      "metadata": {
        "colab": {
          "base_uri": "https://localhost:8080/"
        },
        "id": "iHKF0LKFztAl",
        "outputId": "54839890-a25e-4f8c-9c65-1d6e527a89da"
      },
      "execution_count": 76,
      "outputs": [
        {
          "output_type": "execute_result",
          "data": {
            "text/plain": [
              "2.0"
            ]
          },
          "metadata": {},
          "execution_count": 76
        }
      ]
    },
    {
      "cell_type": "code",
      "source": [
        "a.max()"
      ],
      "metadata": {
        "colab": {
          "base_uri": "https://localhost:8080/"
        },
        "id": "fIb-NyPlzs36",
        "outputId": "4b5094db-9b79-4f7e-d722-19c9b8855459"
      },
      "execution_count": 79,
      "outputs": [
        {
          "output_type": "execute_result",
          "data": {
            "text/plain": [
              "4"
            ]
          },
          "metadata": {},
          "execution_count": 79
        }
      ]
    },
    {
      "cell_type": "code",
      "source": [
        "a.sum()"
      ],
      "metadata": {
        "colab": {
          "base_uri": "https://localhost:8080/"
        },
        "id": "UUssRf2J0DBx",
        "outputId": "81ae35aa-a864-44bc-fdc3-b53d6e4b1254"
      },
      "execution_count": 80,
      "outputs": [
        {
          "output_type": "execute_result",
          "data": {
            "text/plain": [
              "10"
            ]
          },
          "metadata": {},
          "execution_count": 80
        }
      ]
    }
  ],
  "metadata": {
    "colab": {
      "provenance": [],
      "authorship_tag": "ABX9TyNXOSeQ5QnaID9ZJg0eemgb",
      "include_colab_link": true
    },
    "kernelspec": {
      "display_name": "Python 3",
      "name": "python3"
    },
    "language_info": {
      "name": "python"
    }
  },
  "nbformat": 4,
  "nbformat_minor": 0
}